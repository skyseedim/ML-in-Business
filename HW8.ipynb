{
 "cells": [
  {
   "cell_type": "markdown",
   "id": "c06be9ce",
   "metadata": {},
   "source": [
    "# Практические задания к лекции № 8"
   ]
  },
  {
   "cell_type": "code",
   "execution_count": 2,
   "id": "cbfbed89",
   "metadata": {},
   "outputs": [],
   "source": [
    "import pandas as pd\n",
    "import numpy as np\n",
    "import random\n",
    "import scipy\n",
    "import scipy as sp\n",
    "import scipy.stats as sts\n",
    "import matplotlib.pyplot as plt\n",
    "%matplotlib inline\n",
    "\n",
    "random.seed(28)"
   ]
  },
  {
   "cell_type": "markdown",
   "id": "63a2b714",
   "metadata": {},
   "source": [
    "**Задание **\n",
    "\n",
    "Провести аналогичные исследования но для чека покупок клиентов (колонки `revenue`)  \n",
    "в интернет магазине есть 2-ва типа продуктов:\n",
    "* 100 руб.\n",
    "* 250 руб.\n",
    "\n",
    "ну и конечно клиент может ничего не купить  \n",
    "провести исследование изменился ли средний чек"
   ]
  },
  {
   "cell_type": "code",
   "execution_count": 3,
   "id": "552816c9",
   "metadata": {},
   "outputs": [
    {
     "data": {
      "text/html": [
       "<div>\n",
       "<style scoped>\n",
       "    .dataframe tbody tr th:only-of-type {\n",
       "        vertical-align: middle;\n",
       "    }\n",
       "\n",
       "    .dataframe tbody tr th {\n",
       "        vertical-align: top;\n",
       "    }\n",
       "\n",
       "    .dataframe thead th {\n",
       "        text-align: right;\n",
       "    }\n",
       "</style>\n",
       "<table border=\"1\" class=\"dataframe\">\n",
       "  <thead>\n",
       "    <tr style=\"text-align: right;\">\n",
       "      <th></th>\n",
       "      <th>user_id</th>\n",
       "      <th>timestamp</th>\n",
       "      <th>group</th>\n",
       "      <th>landing_page</th>\n",
       "      <th>converted</th>\n",
       "      <th>revenue</th>\n",
       "    </tr>\n",
       "  </thead>\n",
       "  <tbody>\n",
       "    <tr>\n",
       "      <th>0</th>\n",
       "      <td>851104</td>\n",
       "      <td>2017-01-21 22:11:48.556739</td>\n",
       "      <td>control</td>\n",
       "      <td>old_page</td>\n",
       "      <td>0</td>\n",
       "      <td>0</td>\n",
       "    </tr>\n",
       "    <tr>\n",
       "      <th>1</th>\n",
       "      <td>804228</td>\n",
       "      <td>2017-01-12 08:01:45.159739</td>\n",
       "      <td>control</td>\n",
       "      <td>old_page</td>\n",
       "      <td>0</td>\n",
       "      <td>0</td>\n",
       "    </tr>\n",
       "    <tr>\n",
       "      <th>2</th>\n",
       "      <td>661590</td>\n",
       "      <td>2017-01-11 16:55:06.154213</td>\n",
       "      <td>treatment</td>\n",
       "      <td>new_page</td>\n",
       "      <td>0</td>\n",
       "      <td>100</td>\n",
       "    </tr>\n",
       "    <tr>\n",
       "      <th>3</th>\n",
       "      <td>853541</td>\n",
       "      <td>2017-01-08 18:28:03.143765</td>\n",
       "      <td>treatment</td>\n",
       "      <td>new_page</td>\n",
       "      <td>0</td>\n",
       "      <td>0</td>\n",
       "    </tr>\n",
       "    <tr>\n",
       "      <th>4</th>\n",
       "      <td>864975</td>\n",
       "      <td>2017-01-21 01:52:26.210827</td>\n",
       "      <td>control</td>\n",
       "      <td>old_page</td>\n",
       "      <td>1</td>\n",
       "      <td>250</td>\n",
       "    </tr>\n",
       "  </tbody>\n",
       "</table>\n",
       "</div>"
      ],
      "text/plain": [
       "   user_id                   timestamp      group landing_page  converted  \\\n",
       "0   851104  2017-01-21 22:11:48.556739    control     old_page          0   \n",
       "1   804228  2017-01-12 08:01:45.159739    control     old_page          0   \n",
       "2   661590  2017-01-11 16:55:06.154213  treatment     new_page          0   \n",
       "3   853541  2017-01-08 18:28:03.143765  treatment     new_page          0   \n",
       "4   864975  2017-01-21 01:52:26.210827    control     old_page          1   \n",
       "\n",
       "   revenue  \n",
       "0        0  \n",
       "1        0  \n",
       "2      100  \n",
       "3        0  \n",
       "4      250  "
      ]
     },
     "execution_count": 3,
     "metadata": {},
     "output_type": "execute_result"
    }
   ],
   "source": [
    "df = pd.read_csv('ab_datas.csv')\n",
    "\n",
    "df.head()"
   ]
  },
  {
   "cell_type": "code",
   "execution_count": 4,
   "id": "3ffb684d",
   "metadata": {},
   "outputs": [
    {
     "name": "stdout",
     "output_type": "stream",
     "text": [
      "Число строк: 294478\n"
     ]
    }
   ],
   "source": [
    "#количество посетителей всего\n",
    "\n",
    "n_rows = df.shape[0]\n",
    "print(\"Число строк: {}\".format(n_rows))"
   ]
  },
  {
   "cell_type": "code",
   "execution_count": 5,
   "id": "25836b92",
   "metadata": {},
   "outputs": [
    {
     "name": "stdout",
     "output_type": "stream",
     "text": [
      "Число уникальных пользователей : 290584\n"
     ]
    }
   ],
   "source": [
    "user_total = df.nunique()['user_id']\n",
    "print(\"Число уникальных пользователей : {}\".format(user_total))"
   ]
  },
  {
   "cell_type": "markdown",
   "id": "952b6196",
   "metadata": {},
   "source": [
    "Посетителей из контрольной `control` группы должны были направлять на страницу в старом дизайне  `old_page` , пользователей из тестовой группы `treatment` - на страницу в новом дизайне `new_page`. Проверим, были ли ошибки при направлении."
   ]
  },
  {
   "cell_type": "code",
   "execution_count": 6,
   "id": "f26a1b3d",
   "metadata": {},
   "outputs": [
    {
     "name": "stdout",
     "output_type": "stream",
     "text": [
      "Из тестовой группы неверно направлены 1965 пользователей\n",
      "Из контрольной группы неверно направлены  1928 пользователей\n"
     ]
    }
   ],
   "source": [
    "mismatch_1 = df.query(\"group == 'treatment' and landing_page == 'old_page'\")\n",
    "print(\"Из тестовой группы неверно направлены {}\".format(len(mismatch_1)) + \" пользователей\")\n",
    "\n",
    "mismatch_2 = df.query(\"group == 'control' and landing_page == 'new_page'\")\n",
    "print(\"Из контрольной группы неверно направлены  {}\".format(len(mismatch_2)) + \" пользователей\")"
   ]
  },
  {
   "cell_type": "markdown",
   "id": "40f20241",
   "metadata": {},
   "source": [
    "Выясним, есть ли в данных пропуски."
   ]
  },
  {
   "cell_type": "code",
   "execution_count": 7,
   "id": "3c330ed6",
   "metadata": {},
   "outputs": [
    {
     "name": "stdout",
     "output_type": "stream",
     "text": [
      "<class 'pandas.core.frame.DataFrame'>\n",
      "RangeIndex: 294478 entries, 0 to 294477\n",
      "Data columns (total 6 columns):\n",
      " #   Column        Non-Null Count   Dtype \n",
      "---  ------        --------------   ----- \n",
      " 0   user_id       294478 non-null  int64 \n",
      " 1   timestamp     294478 non-null  object\n",
      " 2   group         294478 non-null  object\n",
      " 3   landing_page  294478 non-null  object\n",
      " 4   converted     294478 non-null  int64 \n",
      " 5   revenue       294478 non-null  int64 \n",
      "dtypes: int64(3), object(3)\n",
      "memory usage: 13.5+ MB\n"
     ]
    }
   ],
   "source": [
    "df.info()"
   ]
  },
  {
   "cell_type": "code",
   "execution_count": 9,
   "id": "453f2b1b",
   "metadata": {},
   "outputs": [
    {
     "name": "stdout",
     "output_type": "stream",
     "text": [
      "Средний чек по всем посетителям: 101.9677191504968 rub\n"
     ]
    }
   ],
   "source": [
    "p_all=df['revenue'].mean()\n",
    "print(\"Средний чек по всем посетителям: {} rub\".format(p_all))"
   ]
  },
  {
   "cell_type": "code",
   "execution_count": 15,
   "id": "53decca8",
   "metadata": {},
   "outputs": [
    {
     "data": {
      "text/html": [
       "<div>\n",
       "<style scoped>\n",
       "    .dataframe tbody tr th:only-of-type {\n",
       "        vertical-align: middle;\n",
       "    }\n",
       "\n",
       "    .dataframe tbody tr th {\n",
       "        vertical-align: top;\n",
       "    }\n",
       "\n",
       "    .dataframe thead th {\n",
       "        text-align: right;\n",
       "    }\n",
       "</style>\n",
       "<table border=\"1\" class=\"dataframe\">\n",
       "  <thead>\n",
       "    <tr style=\"text-align: right;\">\n",
       "      <th></th>\n",
       "      <th>count</th>\n",
       "      <th>mean</th>\n",
       "      <th>std</th>\n",
       "      <th>min</th>\n",
       "      <th>25%</th>\n",
       "      <th>50%</th>\n",
       "      <th>75%</th>\n",
       "      <th>max</th>\n",
       "    </tr>\n",
       "    <tr>\n",
       "      <th>group</th>\n",
       "      <th></th>\n",
       "      <th></th>\n",
       "      <th></th>\n",
       "      <th></th>\n",
       "      <th></th>\n",
       "      <th></th>\n",
       "      <th></th>\n",
       "      <th></th>\n",
       "    </tr>\n",
       "  </thead>\n",
       "  <tbody>\n",
       "    <tr>\n",
       "      <th>control</th>\n",
       "      <td>147202.0</td>\n",
       "      <td>87.431896</td>\n",
       "      <td>102.424926</td>\n",
       "      <td>0.0</td>\n",
       "      <td>0.0</td>\n",
       "      <td>0.0</td>\n",
       "      <td>250.0</td>\n",
       "      <td>250.0</td>\n",
       "    </tr>\n",
       "    <tr>\n",
       "      <th>treatment</th>\n",
       "      <td>147276.0</td>\n",
       "      <td>116.496238</td>\n",
       "      <td>102.732069</td>\n",
       "      <td>0.0</td>\n",
       "      <td>0.0</td>\n",
       "      <td>100.0</td>\n",
       "      <td>250.0</td>\n",
       "      <td>250.0</td>\n",
       "    </tr>\n",
       "  </tbody>\n",
       "</table>\n",
       "</div>"
      ],
      "text/plain": [
       "              count        mean         std  min  25%    50%    75%    max\n",
       "group                                                                     \n",
       "control    147202.0   87.431896  102.424926  0.0  0.0    0.0  250.0  250.0\n",
       "treatment  147276.0  116.496238  102.732069  0.0  0.0  100.0  250.0  250.0"
      ]
     },
     "execution_count": 15,
     "metadata": {},
     "output_type": "execute_result"
    }
   ],
   "source": [
    "df_grp = df.groupby('group')['revenue']\n",
    "df_grp.describe()"
   ]
  },
  {
   "cell_type": "code",
   "execution_count": 11,
   "id": "c3235511",
   "metadata": {},
   "outputs": [
    {
     "name": "stdout",
     "output_type": "stream",
     "text": [
      "Соотношение размеров тестовой и контрольной групп: 1.0005027105609978\n",
      "Вероятность, что новый пользователь будет направлен на версию со старым дизайном: 0.5001256460584492\n",
      "Вероятность, что новый пользователь будет направлен на версию с новым дизайном: 0.49987435394155083\n"
     ]
    }
   ],
   "source": [
    "#объем тестовой группы\n",
    "n_rows_treat = len(df[df['group'] == 'treatment'])\n",
    "\n",
    "#объем контрольной группы\n",
    "n_rows_contr = n_rows-n_rows_treat\n",
    "\n",
    "print(\"Соотношение размеров тестовой и контрольной групп: {}\".format(n_rows_treat/n_rows_contr))\n",
    "\n",
    "print(\"Вероятность, что новый пользователь будет направлен на версию со старым дизайном: {}\".format(n_rows_treat/n_rows))\n",
    "print(\"Вероятность, что новый пользователь будет направлен на версию с новым дизайном: {}\".format(n_rows_contr/n_rows))"
   ]
  },
  {
   "cell_type": "markdown",
   "id": "a0acc148",
   "metadata": {},
   "source": [
    "А теперь ответьте на главный вопрос данного этапа:  выявил ли предварительный анализ, что дизайн кнопки влияет на средний чек и если да, то как именно?"
   ]
  },
  {
   "cell_type": "markdown",
   "id": "9a18ddbe",
   "metadata": {},
   "source": [
    "#### Формулировка рабочей гипотезы\n",
    "\n",
    "Рабочая гипотеза в нашем случае может быть сформулирована, например, так: \"Средний чек сайта со старым дизайном не меньше, чем с новым\""
   ]
  },
  {
   "cell_type": "markdown",
   "id": "e0f51bf5",
   "metadata": {},
   "source": [
    "#### Формальное описание нулевой и альтернативной гипотез\n",
    "\n",
    "$H_{0}$ : $\\theta_{new}$ <= $\\theta_{old}$ \n",
    "\n",
    "$H_{1}$ : $\\theta_{new}$ > $\\theta_{old}$ "
   ]
  },
  {
   "cell_type": "markdown",
   "id": "c3b1aed8",
   "metadata": {},
   "source": [
    "#### Критерий мана-уитни для среднего чека"
   ]
  },
  {
   "cell_type": "code",
   "execution_count": 16,
   "id": "0f69202c",
   "metadata": {},
   "outputs": [
    {
     "data": {
      "text/plain": [
       "MannwhitneyuResult(statistic=9035923118.5, pvalue=0.0)"
      ]
     },
     "execution_count": 16,
     "metadata": {},
     "output_type": "execute_result"
    }
   ],
   "source": [
    "from scipy.stats import mannwhitneyu\n",
    "\n",
    "mw_stats = mannwhitneyu(x=df[df['group'] == 'control']['revenue'].values,\n",
    "                        y=df[df['group'] == 'treatment']['revenue'].values)\n",
    "mw_stats"
   ]
  },
  {
   "cell_type": "markdown",
   "id": "753a6826",
   "metadata": {},
   "source": [
    "Критерий Манна-Уитни нам позволяет принять альтернативную гипотезу о том, что средний чек сайта с новым дизайном больше, чем со старым"
   ]
  },
  {
   "cell_type": "markdown",
   "id": "4f4fc6c6",
   "metadata": {},
   "source": [
    "### bootstrap  \n",
    "Сделаем стат выводы при помощи bootstrap-а"
   ]
  },
  {
   "cell_type": "code",
   "execution_count": 20,
   "id": "69c6e289",
   "metadata": {},
   "outputs": [
    {
     "data": {
      "image/png": "[encoded data removed]",
      "text/plain": [
       "<Figure size 432x288 with 1 Axes>"
      ]
     },
     "metadata": {
      "needs_background": "light"
     },
     "output_type": "display_data"
    }
   ],
   "source": [
    "plt.hist(df.loc[df['group']=='treatment', 'revenue']);"
   ]
  },
  {
   "cell_type": "code",
   "execution_count": 21,
   "id": "016a271b",
   "metadata": {},
   "outputs": [
    {
     "data": {
      "image/png": "[encoded data removed]",
      "text/plain": [
       "<Figure size 432x288 with 1 Axes>"
      ]
     },
     "metadata": {
      "needs_background": "light"
     },
     "output_type": "display_data"
    }
   ],
   "source": [
    "plt.hist(df.loc[df['group']=='control', 'revenue']);"
   ]
  },
  {
   "cell_type": "code",
   "execution_count": 22,
   "id": "0aba802d",
   "metadata": {},
   "outputs": [],
   "source": [
    "b = df.loc[df['group']=='treatment', 'revenue'].values\n",
    "a = df.loc[df['group']=='control', 'revenue'].values"
   ]
  },
  {
   "cell_type": "code",
   "execution_count": 23,
   "id": "57046262",
   "metadata": {},
   "outputs": [],
   "source": [
    "from sklearn.utils import resample\n",
    "\n",
    "a_means = []\n",
    "b_means = []\n",
    "\n",
    "for i in range(10000):\n",
    "    a_boot = resample(a, replace=True, n_samples=len(a))\n",
    "    b_boot = resample(b, replace=True, n_samples=len(b))\n",
    "    \n",
    "    a_means.append(a_boot.mean())\n",
    "    b_means.append(b_boot.mean())\n",
    "    \n",
    "a_means = np.array(a_means)\n",
    "b_means = np.array(b_means)"
   ]
  },
  {
   "cell_type": "code",
   "execution_count": 24,
   "id": "03d2b753",
   "metadata": {},
   "outputs": [
    {
     "data": {
      "image/png": "[encoded data removed]",
      "text/plain": [
       "<Figure size 432x288 with 1 Axes>"
      ]
     },
     "metadata": {
      "needs_background": "light"
     },
     "output_type": "display_data"
    }
   ],
   "source": [
    "plt.hist(a_means, label='A rev', alpha=0.5, bins=100)\n",
    "plt.hist(b_means, label='B rev', alpha=0.5, bins=100)\n",
    "\n",
    "plt.legend()\n",
    "plt.show()"
   ]
  },
  {
   "cell_type": "code",
   "execution_count": 25,
   "id": "1b0b1c3c",
   "metadata": {},
   "outputs": [
    {
     "data": {
      "text/plain": [
       "(86.91356095705221, 87.95668537112267)"
      ]
     },
     "execution_count": 25,
     "metadata": {},
     "output_type": "execute_result"
    }
   ],
   "source": [
    "# доверительный интервал\n",
    "np.percentile(a_means, 2.5), np.percentile(a_means, 97.5)"
   ]
  },
  {
   "cell_type": "code",
   "execution_count": 26,
   "id": "8e46014b",
   "metadata": {},
   "outputs": [
    {
     "data": {
      "image/png": "[encoded data removed]",
      "text/plain": [
       "<Figure size 432x288 with 1 Axes>"
      ]
     },
     "metadata": {
      "needs_background": "light"
     },
     "output_type": "display_data"
    }
   ],
   "source": [
    "plt.hist(a_means - b_means, bins=100)\n",
    "plt.show()"
   ]
  },
  {
   "cell_type": "code",
   "execution_count": 27,
   "id": "e3faefbb",
   "metadata": {},
   "outputs": [
    {
     "data": {
      "text/plain": [
       "0.0"
      ]
     },
     "execution_count": 27,
     "metadata": {},
     "output_type": "execute_result"
    }
   ],
   "source": [
    "# сделаем оценку на p_value\n",
    "dff = a_means - b_means\n",
    "\n",
    "len(dff[dff>=0])/len(dff)"
   ]
  },
  {
   "cell_type": "markdown",
   "id": "daf19a23",
   "metadata": {},
   "source": [
    "bootstrap подтверждает критерий Манна-Уитни"
   ]
  },
  {
   "cell_type": "code",
   "execution_count": null,
   "id": "b94ccf8b",
   "metadata": {},
   "outputs": [],
   "source": []
  }
 ],
 "metadata": {
  "kernelspec": {
   "display_name": "Python 3",
   "language": "python",
   "name": "python3"
  },
  "language_info": {
   "codemirror_mode": {
    "name": "ipython",
    "version": 3
   },
   "file_extension": ".py",
   "mimetype": "text/x-python",
   "name": "python",
   "nbconvert_exporter": "python",
   "pygments_lexer": "ipython3",
   "version": "3.8.8"
  }
 },
 "nbformat": 4,
 "nbformat_minor": 5
}
