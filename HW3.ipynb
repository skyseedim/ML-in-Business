{
 "cells": [
  {
   "cell_type": "markdown",
   "id": "637160bc",
   "metadata": {},
   "source": [
    "# Практические задания к лекции № 3"
   ]
  },
  {
   "cell_type": "markdown",
   "id": "c11e3948",
   "metadata": {},
   "source": [
    "1. обучить несколько разных моделей на наборе данных ССЗ (train_case2.csv): логрег, бустинг, лес и т.д - на ваш выбор 2-3 варианта\n",
    "2. при обучении моделей обязательно использовать кроссвалидацию\n",
    "3. вывести сравнение полученных моделей по основным метрикам классификации: pr/rec/auc/f_score (можно в виде таблицы, где строки - модели, а столбцы - метрики)\n",
    "4. сделать выводы о том, какая модель справилась с задачей лучше других"
   ]
  },
  {
   "cell_type": "code",
   "execution_count": 1,
   "id": "12940b8c",
   "metadata": {},
   "outputs": [],
   "source": [
    "import pandas as pd\n",
    "import numpy as np"
   ]
  },
  {
   "cell_type": "code",
   "execution_count": 57,
   "id": "732eb750",
   "metadata": {},
   "outputs": [],
   "source": [
    "from sklearn.metrics import precision_recall_curve, roc_curve, roc_auc_score\n",
    "from sklearn.model_selection import cross_validate"
   ]
  },
  {
   "cell_type": "code",
   "execution_count": 3,
   "id": "9ce5142c",
   "metadata": {},
   "outputs": [],
   "source": [
    "import matplotlib.pyplot as plt"
   ]
  },
  {
   "cell_type": "code",
   "execution_count": 4,
   "id": "5dc3ba50",
   "metadata": {},
   "outputs": [],
   "source": [
    "import xgboost as xgb, lightgbm as lgbm, catboost as catb"
   ]
  },
  {
   "cell_type": "code",
   "execution_count": 56,
   "id": "5543679f",
   "metadata": {},
   "outputs": [],
   "source": [
    "import warnings\n",
    "warnings.filterwarnings('ignore')"
   ]
  },
  {
   "cell_type": "code",
   "execution_count": 5,
   "id": "e2084537",
   "metadata": {},
   "outputs": [
    {
     "data": {
      "text/html": [
       "<div>\n",
       "<style scoped>\n",
       "    .dataframe tbody tr th:only-of-type {\n",
       "        vertical-align: middle;\n",
       "    }\n",
       "\n",
       "    .dataframe tbody tr th {\n",
       "        vertical-align: top;\n",
       "    }\n",
       "\n",
       "    .dataframe thead th {\n",
       "        text-align: right;\n",
       "    }\n",
       "</style>\n",
       "<table border=\"1\" class=\"dataframe\">\n",
       "  <thead>\n",
       "    <tr style=\"text-align: right;\">\n",
       "      <th>id</th>\n",
       "      <th>0</th>\n",
       "      <th>1</th>\n",
       "      <th>2</th>\n",
       "    </tr>\n",
       "  </thead>\n",
       "  <tbody>\n",
       "    <tr>\n",
       "      <th>age</th>\n",
       "      <td>18393.0</td>\n",
       "      <td>20228.0</td>\n",
       "      <td>18857.0</td>\n",
       "    </tr>\n",
       "    <tr>\n",
       "      <th>gender</th>\n",
       "      <td>2.0</td>\n",
       "      <td>1.0</td>\n",
       "      <td>1.0</td>\n",
       "    </tr>\n",
       "    <tr>\n",
       "      <th>height</th>\n",
       "      <td>168.0</td>\n",
       "      <td>156.0</td>\n",
       "      <td>165.0</td>\n",
       "    </tr>\n",
       "    <tr>\n",
       "      <th>weight</th>\n",
       "      <td>62.0</td>\n",
       "      <td>85.0</td>\n",
       "      <td>64.0</td>\n",
       "    </tr>\n",
       "    <tr>\n",
       "      <th>ap_hi</th>\n",
       "      <td>110.0</td>\n",
       "      <td>140.0</td>\n",
       "      <td>130.0</td>\n",
       "    </tr>\n",
       "    <tr>\n",
       "      <th>ap_lo</th>\n",
       "      <td>80.0</td>\n",
       "      <td>90.0</td>\n",
       "      <td>70.0</td>\n",
       "    </tr>\n",
       "    <tr>\n",
       "      <th>cholesterol</th>\n",
       "      <td>1.0</td>\n",
       "      <td>3.0</td>\n",
       "      <td>3.0</td>\n",
       "    </tr>\n",
       "    <tr>\n",
       "      <th>gluc</th>\n",
       "      <td>1.0</td>\n",
       "      <td>1.0</td>\n",
       "      <td>1.0</td>\n",
       "    </tr>\n",
       "    <tr>\n",
       "      <th>smoke</th>\n",
       "      <td>0.0</td>\n",
       "      <td>0.0</td>\n",
       "      <td>0.0</td>\n",
       "    </tr>\n",
       "    <tr>\n",
       "      <th>alco</th>\n",
       "      <td>0.0</td>\n",
       "      <td>0.0</td>\n",
       "      <td>0.0</td>\n",
       "    </tr>\n",
       "    <tr>\n",
       "      <th>active</th>\n",
       "      <td>1.0</td>\n",
       "      <td>1.0</td>\n",
       "      <td>0.0</td>\n",
       "    </tr>\n",
       "    <tr>\n",
       "      <th>cardio</th>\n",
       "      <td>0.0</td>\n",
       "      <td>1.0</td>\n",
       "      <td>1.0</td>\n",
       "    </tr>\n",
       "  </tbody>\n",
       "</table>\n",
       "</div>"
      ],
      "text/plain": [
       "id                 0        1        2\n",
       "age          18393.0  20228.0  18857.0\n",
       "gender           2.0      1.0      1.0\n",
       "height         168.0    156.0    165.0\n",
       "weight          62.0     85.0     64.0\n",
       "ap_hi          110.0    140.0    130.0\n",
       "ap_lo           80.0     90.0     70.0\n",
       "cholesterol      1.0      3.0      3.0\n",
       "gluc             1.0      1.0      1.0\n",
       "smoke            0.0      0.0      0.0\n",
       "alco             0.0      0.0      0.0\n",
       "active           1.0      1.0      0.0\n",
       "cardio           0.0      1.0      1.0"
      ]
     },
     "execution_count": 5,
     "metadata": {},
     "output_type": "execute_result"
    }
   ],
   "source": [
    "df = pd.read_csv(\"train_case2.csv\", sep=';', index_col=0)\n",
    "df.head(3).T"
   ]
  },
  {
   "cell_type": "code",
   "execution_count": 6,
   "id": "3122ab3a",
   "metadata": {},
   "outputs": [
    {
     "data": {
      "text/plain": [
       "0    35021\n",
       "1    34979\n",
       "Name: cardio, dtype: int64"
      ]
     },
     "execution_count": 6,
     "metadata": {},
     "output_type": "execute_result"
    }
   ],
   "source": [
    "df['cardio'].value_counts()"
   ]
  },
  {
   "cell_type": "code",
   "execution_count": 7,
   "id": "7c8396ec",
   "metadata": {},
   "outputs": [
    {
     "data": {
      "text/html": [
       "<div>\n",
       "<style scoped>\n",
       "    .dataframe tbody tr th:only-of-type {\n",
       "        vertical-align: middle;\n",
       "    }\n",
       "\n",
       "    .dataframe tbody tr th {\n",
       "        vertical-align: top;\n",
       "    }\n",
       "\n",
       "    .dataframe thead th {\n",
       "        text-align: right;\n",
       "    }\n",
       "</style>\n",
       "<table border=\"1\" class=\"dataframe\">\n",
       "  <thead>\n",
       "    <tr style=\"text-align: right;\">\n",
       "      <th></th>\n",
       "      <th>age</th>\n",
       "      <th>gender</th>\n",
       "      <th>height</th>\n",
       "      <th>weight</th>\n",
       "      <th>ap_hi</th>\n",
       "      <th>ap_lo</th>\n",
       "      <th>cholesterol</th>\n",
       "      <th>gluc</th>\n",
       "      <th>smoke</th>\n",
       "      <th>alco</th>\n",
       "      <th>active</th>\n",
       "      <th>cardio</th>\n",
       "    </tr>\n",
       "  </thead>\n",
       "  <tbody>\n",
       "    <tr>\n",
       "      <th>count</th>\n",
       "      <td>70000.000000</td>\n",
       "      <td>70000.000000</td>\n",
       "      <td>70000.000000</td>\n",
       "      <td>70000.000000</td>\n",
       "      <td>70000.000000</td>\n",
       "      <td>70000.000000</td>\n",
       "      <td>70000.000000</td>\n",
       "      <td>70000.000000</td>\n",
       "      <td>70000.000000</td>\n",
       "      <td>70000.000000</td>\n",
       "      <td>70000.000000</td>\n",
       "      <td>70000.000000</td>\n",
       "    </tr>\n",
       "    <tr>\n",
       "      <th>mean</th>\n",
       "      <td>19468.865814</td>\n",
       "      <td>1.349571</td>\n",
       "      <td>164.359229</td>\n",
       "      <td>74.205690</td>\n",
       "      <td>128.817286</td>\n",
       "      <td>96.630414</td>\n",
       "      <td>1.366871</td>\n",
       "      <td>1.226457</td>\n",
       "      <td>0.088129</td>\n",
       "      <td>0.053771</td>\n",
       "      <td>0.803729</td>\n",
       "      <td>0.499700</td>\n",
       "    </tr>\n",
       "    <tr>\n",
       "      <th>std</th>\n",
       "      <td>2467.251667</td>\n",
       "      <td>0.476838</td>\n",
       "      <td>8.210126</td>\n",
       "      <td>14.395757</td>\n",
       "      <td>154.011419</td>\n",
       "      <td>188.472530</td>\n",
       "      <td>0.680250</td>\n",
       "      <td>0.572270</td>\n",
       "      <td>0.283484</td>\n",
       "      <td>0.225568</td>\n",
       "      <td>0.397179</td>\n",
       "      <td>0.500003</td>\n",
       "    </tr>\n",
       "    <tr>\n",
       "      <th>min</th>\n",
       "      <td>10798.000000</td>\n",
       "      <td>1.000000</td>\n",
       "      <td>55.000000</td>\n",
       "      <td>10.000000</td>\n",
       "      <td>-150.000000</td>\n",
       "      <td>-70.000000</td>\n",
       "      <td>1.000000</td>\n",
       "      <td>1.000000</td>\n",
       "      <td>0.000000</td>\n",
       "      <td>0.000000</td>\n",
       "      <td>0.000000</td>\n",
       "      <td>0.000000</td>\n",
       "    </tr>\n",
       "    <tr>\n",
       "      <th>25%</th>\n",
       "      <td>17664.000000</td>\n",
       "      <td>1.000000</td>\n",
       "      <td>159.000000</td>\n",
       "      <td>65.000000</td>\n",
       "      <td>120.000000</td>\n",
       "      <td>80.000000</td>\n",
       "      <td>1.000000</td>\n",
       "      <td>1.000000</td>\n",
       "      <td>0.000000</td>\n",
       "      <td>0.000000</td>\n",
       "      <td>1.000000</td>\n",
       "      <td>0.000000</td>\n",
       "    </tr>\n",
       "    <tr>\n",
       "      <th>50%</th>\n",
       "      <td>19703.000000</td>\n",
       "      <td>1.000000</td>\n",
       "      <td>165.000000</td>\n",
       "      <td>72.000000</td>\n",
       "      <td>120.000000</td>\n",
       "      <td>80.000000</td>\n",
       "      <td>1.000000</td>\n",
       "      <td>1.000000</td>\n",
       "      <td>0.000000</td>\n",
       "      <td>0.000000</td>\n",
       "      <td>1.000000</td>\n",
       "      <td>0.000000</td>\n",
       "    </tr>\n",
       "    <tr>\n",
       "      <th>75%</th>\n",
       "      <td>21327.000000</td>\n",
       "      <td>2.000000</td>\n",
       "      <td>170.000000</td>\n",
       "      <td>82.000000</td>\n",
       "      <td>140.000000</td>\n",
       "      <td>90.000000</td>\n",
       "      <td>2.000000</td>\n",
       "      <td>1.000000</td>\n",
       "      <td>0.000000</td>\n",
       "      <td>0.000000</td>\n",
       "      <td>1.000000</td>\n",
       "      <td>1.000000</td>\n",
       "    </tr>\n",
       "    <tr>\n",
       "      <th>max</th>\n",
       "      <td>23713.000000</td>\n",
       "      <td>2.000000</td>\n",
       "      <td>250.000000</td>\n",
       "      <td>200.000000</td>\n",
       "      <td>16020.000000</td>\n",
       "      <td>11000.000000</td>\n",
       "      <td>3.000000</td>\n",
       "      <td>3.000000</td>\n",
       "      <td>1.000000</td>\n",
       "      <td>1.000000</td>\n",
       "      <td>1.000000</td>\n",
       "      <td>1.000000</td>\n",
       "    </tr>\n",
       "  </tbody>\n",
       "</table>\n",
       "</div>"
      ],
      "text/plain": [
       "                age        gender        height        weight         ap_hi  \\\n",
       "count  70000.000000  70000.000000  70000.000000  70000.000000  70000.000000   \n",
       "mean   19468.865814      1.349571    164.359229     74.205690    128.817286   \n",
       "std     2467.251667      0.476838      8.210126     14.395757    154.011419   \n",
       "min    10798.000000      1.000000     55.000000     10.000000   -150.000000   \n",
       "25%    17664.000000      1.000000    159.000000     65.000000    120.000000   \n",
       "50%    19703.000000      1.000000    165.000000     72.000000    120.000000   \n",
       "75%    21327.000000      2.000000    170.000000     82.000000    140.000000   \n",
       "max    23713.000000      2.000000    250.000000    200.000000  16020.000000   \n",
       "\n",
       "              ap_lo   cholesterol          gluc         smoke          alco  \\\n",
       "count  70000.000000  70000.000000  70000.000000  70000.000000  70000.000000   \n",
       "mean      96.630414      1.366871      1.226457      0.088129      0.053771   \n",
       "std      188.472530      0.680250      0.572270      0.283484      0.225568   \n",
       "min      -70.000000      1.000000      1.000000      0.000000      0.000000   \n",
       "25%       80.000000      1.000000      1.000000      0.000000      0.000000   \n",
       "50%       80.000000      1.000000      1.000000      0.000000      0.000000   \n",
       "75%       90.000000      2.000000      1.000000      0.000000      0.000000   \n",
       "max    11000.000000      3.000000      3.000000      1.000000      1.000000   \n",
       "\n",
       "             active        cardio  \n",
       "count  70000.000000  70000.000000  \n",
       "mean       0.803729      0.499700  \n",
       "std        0.397179      0.500003  \n",
       "min        0.000000      0.000000  \n",
       "25%        1.000000      0.000000  \n",
       "50%        1.000000      0.000000  \n",
       "75%        1.000000      1.000000  \n",
       "max        1.000000      1.000000  "
      ]
     },
     "execution_count": 7,
     "metadata": {},
     "output_type": "execute_result"
    }
   ],
   "source": [
    "df.describe()"
   ]
  },
  {
   "cell_type": "code",
   "execution_count": 8,
   "id": "68098ef6",
   "metadata": {},
   "outputs": [
    {
     "data": {
      "text/plain": [
       "<AxesSubplot:>"
      ]
     },
     "execution_count": 8,
     "metadata": {},
     "output_type": "execute_result"
    },
    {
     "data": {
      "image/png": "[encoded data removed]",
      "text/plain": [
       "<Figure size 432x288 with 1 Axes>"
      ]
     },
     "metadata": {
      "needs_background": "light"
     },
     "output_type": "display_data"
    }
   ],
   "source": [
    "df.ap_hi.hist(log=True)"
   ]
  },
  {
   "cell_type": "code",
   "execution_count": 9,
   "id": "f7277b29",
   "metadata": {},
   "outputs": [
    {
     "data": {
      "text/plain": [
       "<AxesSubplot:>"
      ]
     },
     "execution_count": 9,
     "metadata": {},
     "output_type": "execute_result"
    },
    {
     "data": {
      "image/png": "[encoded data removed]",
      "text/plain": [
       "<Figure size 432x288 with 1 Axes>"
      ]
     },
     "metadata": {
      "needs_background": "light"
     },
     "output_type": "display_data"
    }
   ],
   "source": [
    "df.ap_lo.hist(log=True)"
   ]
  },
  {
   "cell_type": "markdown",
   "id": "7d160224",
   "metadata": {},
   "source": [
    "Приведём немного в порядок данные по давлению"
   ]
  },
  {
   "cell_type": "code",
   "execution_count": 10,
   "id": "f13e389b",
   "metadata": {},
   "outputs": [],
   "source": [
    "for ap in ['ap_hi', 'ap_lo']:\n",
    "    df.loc[df[ap] < 0, ap] = df[ap] * (-1)\n",
    "    df.loc[(df[ap] > 300) & (df[ap] < 5000), ap] = df[ap] // 10\n",
    "    df.loc[df[ap] >= 5000, ap] = df[ap] // 100\n",
    "    df.loc[df[ap] == 1, ap] = df[ap] * 100\n",
    "    df.loc[df[ap] < 20, ap] = df[ap] * 10\n",
    "    \n",
    "df.loc[df['ap_lo'] == 0, 'ap_lo'] = np.median(df['ap_lo'])"
   ]
  },
  {
   "cell_type": "code",
   "execution_count": 11,
   "id": "67b26966",
   "metadata": {},
   "outputs": [
    {
     "data": {
      "text/plain": [
       "<AxesSubplot:>"
      ]
     },
     "execution_count": 11,
     "metadata": {},
     "output_type": "execute_result"
    },
    {
     "data": {
      "image/png": "[encoded data removed]",
      "text/plain": [
       "<Figure size 432x288 with 1 Axes>"
      ]
     },
     "metadata": {
      "needs_background": "light"
     },
     "output_type": "display_data"
    }
   ],
   "source": [
    "df.ap_hi.hist(log=True)"
   ]
  },
  {
   "cell_type": "code",
   "execution_count": 12,
   "id": "7c657083",
   "metadata": {},
   "outputs": [
    {
     "data": {
      "text/plain": [
       "<AxesSubplot:>"
      ]
     },
     "execution_count": 12,
     "metadata": {},
     "output_type": "execute_result"
    },
    {
     "data": {
      "image/png": "[encoded data removed]",
      "text/plain": [
       "<Figure size 432x288 with 1 Axes>"
      ]
     },
     "metadata": {
      "needs_background": "light"
     },
     "output_type": "display_data"
    }
   ],
   "source": [
    "df.ap_lo.hist(log=True)"
   ]
  },
  {
   "cell_type": "code",
   "execution_count": 22,
   "id": "69338cdf",
   "metadata": {},
   "outputs": [],
   "source": [
    "y = df['cardio']\n",
    "X = df.drop('cardio', 1)"
   ]
  },
  {
   "cell_type": "code",
   "execution_count": 23,
   "id": "f2aea7ad",
   "metadata": {},
   "outputs": [],
   "source": [
    "models = [xgb.XGBClassifier(random_state=28), \n",
    "         lgbm.LGBMClassifier(random_state=28),\n",
    "         catb.CatBoostClassifier(silent=True, random_state=28)]"
   ]
  },
  {
   "cell_type": "code",
   "execution_count": 58,
   "id": "b0188810",
   "metadata": {},
   "outputs": [
    {
     "name": "stdout",
     "output_type": "stream",
     "text": [
      "[19:11:16] WARNING: C:/Users/Administrator/workspace/xgboost-win64_release_1.5.1/src/learner.cc:1115: Starting in XGBoost 1.3.0, the default evaluation metric used with the objective 'binary:logistic' was changed from 'error' to 'logloss'. Explicitly set eval_metric if you'd like to restore the old behavior.\n",
      "[19:11:17] WARNING: C:/Users/Administrator/workspace/xgboost-win64_release_1.5.1/src/learner.cc:1115: Starting in XGBoost 1.3.0, the default evaluation metric used with the objective 'binary:logistic' was changed from 'error' to 'logloss'. Explicitly set eval_metric if you'd like to restore the old behavior.\n",
      "[19:11:17] WARNING: C:/Users/Administrator/workspace/xgboost-win64_release_1.5.1/src/learner.cc:1115: Starting in XGBoost 1.3.0, the default evaluation metric used with the objective 'binary:logistic' was changed from 'error' to 'logloss'. Explicitly set eval_metric if you'd like to restore the old behavior.\n"
     ]
    }
   ],
   "source": [
    "scores = []\n",
    "for alg in models:\n",
    "    scores.append(cross_validate(alg, X, y, cv=3, scoring=('precision', 'recall', 'roc_auc', 'f1'),\n",
    "                         return_train_score=True))"
   ]
  },
  {
   "cell_type": "code",
   "execution_count": 59,
   "id": "529378d8",
   "metadata": {},
   "outputs": [],
   "source": [
    "scores_mean = []\n",
    "for alg in scores:\n",
    "    lst = {}\n",
    "    for key in alg.keys():\n",
    "        if (str(key) == 'fit_time') or (str(key) == 'score_time'):\n",
    "            continue\n",
    "        else:\n",
    "            lst[str(key)] = np.mean(alg[key])\n",
    "    scores_mean.append(lst)"
   ]
  },
  {
   "cell_type": "code",
   "execution_count": 60,
   "id": "902b624a",
   "metadata": {},
   "outputs": [
    {
     "data": {
      "text/html": [
       "<div>\n",
       "<style scoped>\n",
       "    .dataframe tbody tr th:only-of-type {\n",
       "        vertical-align: middle;\n",
       "    }\n",
       "\n",
       "    .dataframe tbody tr th {\n",
       "        vertical-align: top;\n",
       "    }\n",
       "\n",
       "    .dataframe thead th {\n",
       "        text-align: right;\n",
       "    }\n",
       "</style>\n",
       "<table border=\"1\" class=\"dataframe\">\n",
       "  <thead>\n",
       "    <tr style=\"text-align: right;\">\n",
       "      <th></th>\n",
       "      <th>XGB</th>\n",
       "      <th>LGBM</th>\n",
       "      <th>CatBoost</th>\n",
       "    </tr>\n",
       "  </thead>\n",
       "  <tbody>\n",
       "    <tr>\n",
       "      <th>test_precision</th>\n",
       "      <td>0.751790</td>\n",
       "      <td>0.756029</td>\n",
       "      <td>0.755652</td>\n",
       "    </tr>\n",
       "    <tr>\n",
       "      <th>train_precision</th>\n",
       "      <td>0.794296</td>\n",
       "      <td>0.772788</td>\n",
       "      <td>0.779870</td>\n",
       "    </tr>\n",
       "    <tr>\n",
       "      <th>test_recall</th>\n",
       "      <td>0.692444</td>\n",
       "      <td>0.695732</td>\n",
       "      <td>0.696103</td>\n",
       "    </tr>\n",
       "    <tr>\n",
       "      <th>train_recall</th>\n",
       "      <td>0.728208</td>\n",
       "      <td>0.709812</td>\n",
       "      <td>0.718788</td>\n",
       "    </tr>\n",
       "    <tr>\n",
       "      <th>test_roc_auc</th>\n",
       "      <td>0.796247</td>\n",
       "      <td>0.802262</td>\n",
       "      <td>0.801654</td>\n",
       "    </tr>\n",
       "    <tr>\n",
       "      <th>train_roc_auc</th>\n",
       "      <td>0.850612</td>\n",
       "      <td>0.827131</td>\n",
       "      <td>0.835380</td>\n",
       "    </tr>\n",
       "    <tr>\n",
       "      <th>test_f1</th>\n",
       "      <td>0.720887</td>\n",
       "      <td>0.724609</td>\n",
       "      <td>0.724647</td>\n",
       "    </tr>\n",
       "    <tr>\n",
       "      <th>train_f1</th>\n",
       "      <td>0.759803</td>\n",
       "      <td>0.739942</td>\n",
       "      <td>0.748075</td>\n",
       "    </tr>\n",
       "  </tbody>\n",
       "</table>\n",
       "</div>"
      ],
      "text/plain": [
       "                      XGB      LGBM  CatBoost\n",
       "test_precision   0.751790  0.756029  0.755652\n",
       "train_precision  0.794296  0.772788  0.779870\n",
       "test_recall      0.692444  0.695732  0.696103\n",
       "train_recall     0.728208  0.709812  0.718788\n",
       "test_roc_auc     0.796247  0.802262  0.801654\n",
       "train_roc_auc    0.850612  0.827131  0.835380\n",
       "test_f1          0.720887  0.724609  0.724647\n",
       "train_f1         0.759803  0.739942  0.748075"
      ]
     },
     "execution_count": 60,
     "metadata": {},
     "output_type": "execute_result"
    }
   ],
   "source": [
    "df = pd.DataFrame(scores_mean, ['XGB', 'LGBM', 'CatBoost']).T\n",
    "df"
   ]
  },
  {
   "cell_type": "markdown",
   "id": "a4d70209",
   "metadata": {},
   "source": [
    "Разница между алгоритмами незначительна, но всё же LGBM и CatBoost справились лучще xgboostа."
   ]
  },
  {
   "cell_type": "markdown",
   "id": "2c5615b9",
   "metadata": {},
   "source": [
    "5. (опциональный вопрос) какая метрика (precision_recall_curve или roc_auc_curve) больше подходит в случае сильного дисбаланса классов? (когда объектов одного из классов намного больше чем другого). \n",
    "\n",
    "p.s.В вопросе проще разобраться, если вспомнить оси на графике roc auc curve и рассмотреть такой пример:\n",
    "\n",
    "Имеется 100000 объектов, из которых только 100 - класс \"1\" (99900 - класс \"0\", соответственно). \n",
    "Допустим, у нас две модели:\n",
    "\n",
    "- первая помечает 100 объектов как класс 1, но TP = 90\n",
    "- вторая помечает 1000 объектов как класс 1, но TP такой же - 90\n",
    "\n",
    "Какая модель лучше и почему? И что позволяет легче сделать вывод - roc_auc_curve или precision_recall_curve?"
   ]
  },
  {
   "cell_type": "markdown",
   "id": "1e3a4cc4",
   "metadata": {},
   "source": [
    "1 модель:"
   ]
  },
  {
   "cell_type": "code",
   "execution_count": 98,
   "id": "a6b6d3f0",
   "metadata": {},
   "outputs": [],
   "source": [
    "TP = 90\n",
    "FP = 10\n",
    "TN = 99890\n",
    "FN = 10"
   ]
  },
  {
   "cell_type": "markdown",
   "id": "5cb0fece",
   "metadata": {},
   "source": [
    "roc_auc_curve"
   ]
  },
  {
   "cell_type": "code",
   "execution_count": 99,
   "id": "0791e532",
   "metadata": {},
   "outputs": [],
   "source": [
    "TPR_1 = TP/(TP + FN)\n",
    "FPR_1 = FP/(FP + TN)"
   ]
  },
  {
   "cell_type": "markdown",
   "id": "6da02dce",
   "metadata": {},
   "source": [
    "precision_recall_curve"
   ]
  },
  {
   "cell_type": "code",
   "execution_count": 100,
   "id": "1ea55bd7",
   "metadata": {},
   "outputs": [],
   "source": [
    "precision_1 = TP/(TP + FP)\n",
    "recall_1 = TP/(TP + FN)"
   ]
  },
  {
   "cell_type": "markdown",
   "id": "5b2b2695",
   "metadata": {},
   "source": [
    "2 модель:"
   ]
  },
  {
   "cell_type": "code",
   "execution_count": 101,
   "id": "b7fb965f",
   "metadata": {},
   "outputs": [],
   "source": [
    "TP = 90\n",
    "FP = 910\n",
    "TN = 98990\n",
    "FN = 10"
   ]
  },
  {
   "cell_type": "code",
   "execution_count": 102,
   "id": "c5a8b4a5",
   "metadata": {},
   "outputs": [],
   "source": [
    "TPR_2 = TP/(TP + FN)\n",
    "FPR_2 = FP/(FP + TN)"
   ]
  },
  {
   "cell_type": "markdown",
   "id": "420162c1",
   "metadata": {},
   "source": [
    "precision_recall_curve"
   ]
  },
  {
   "cell_type": "code",
   "execution_count": 103,
   "id": "071fc3af",
   "metadata": {},
   "outputs": [],
   "source": [
    "precision_2 = TP/(TP + FP)\n",
    "recall_2 = TP/(TP + FN)"
   ]
  },
  {
   "cell_type": "code",
   "execution_count": 104,
   "id": "90fab319",
   "metadata": {},
   "outputs": [
    {
     "data": {
      "text/html": [
       "<div>\n",
       "<style scoped>\n",
       "    .dataframe tbody tr th:only-of-type {\n",
       "        vertical-align: middle;\n",
       "    }\n",
       "\n",
       "    .dataframe tbody tr th {\n",
       "        vertical-align: top;\n",
       "    }\n",
       "\n",
       "    .dataframe thead th {\n",
       "        text-align: right;\n",
       "    }\n",
       "</style>\n",
       "<table border=\"1\" class=\"dataframe\">\n",
       "  <thead>\n",
       "    <tr style=\"text-align: right;\">\n",
       "      <th></th>\n",
       "      <th>alg_1</th>\n",
       "      <th>alg_2</th>\n",
       "    </tr>\n",
       "  </thead>\n",
       "  <tbody>\n",
       "    <tr>\n",
       "      <th>TPR</th>\n",
       "      <td>0.9000</td>\n",
       "      <td>0.900000</td>\n",
       "    </tr>\n",
       "    <tr>\n",
       "      <th>FPR</th>\n",
       "      <td>0.0001</td>\n",
       "      <td>0.009109</td>\n",
       "    </tr>\n",
       "    <tr>\n",
       "      <th>precision</th>\n",
       "      <td>0.9000</td>\n",
       "      <td>0.090000</td>\n",
       "    </tr>\n",
       "    <tr>\n",
       "      <th>recall</th>\n",
       "      <td>0.9000</td>\n",
       "      <td>0.900000</td>\n",
       "    </tr>\n",
       "  </tbody>\n",
       "</table>\n",
       "</div>"
      ],
      "text/plain": [
       "            alg_1     alg_2\n",
       "TPR        0.9000  0.900000\n",
       "FPR        0.0001  0.009109\n",
       "precision  0.9000  0.090000\n",
       "recall     0.9000  0.900000"
      ]
     },
     "execution_count": 104,
     "metadata": {},
     "output_type": "execute_result"
    }
   ],
   "source": [
    "pd.DataFrame({'alg_1': [TPR_1, FPR_1, precision_1, recall_1], 'alg_2': [TPR_2, FPR_2, precision_2, recall_2]}, \n",
    "             ['TPR', 'FPR', 'precision', 'recall'])"
   ]
  },
  {
   "cell_type": "markdown",
   "id": "fa6d5d9e",
   "metadata": {},
   "source": [
    "Второй алгоритм хуже из-за того, что просела точность без малого в 10 раз. По roc_auc_curve это было бы не понятно. Таким образом, precision_recall_curve больше подходит в случае сильного дисбаланса классов"
   ]
  }
 ],
 "metadata": {
  "kernelspec": {
   "display_name": "Python 3",
   "language": "python",
   "name": "python3"
  },
  "language_info": {
   "codemirror_mode": {
    "name": "ipython",
    "version": 3
   },
   "file_extension": ".py",
   "mimetype": "text/x-python",
   "name": "python",
   "nbconvert_exporter": "python",
   "pygments_lexer": "ipython3",
   "version": "3.8.8"
  }
 },
 "nbformat": 4,
 "nbformat_minor": 5
}
