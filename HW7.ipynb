{
 "cells": [
  {
   "cell_type": "markdown",
   "id": "1c31f04d",
   "metadata": {},
   "source": [
    "# Практические задания к лекции № 7"
   ]
  },
  {
   "cell_type": "code",
   "execution_count": null,
   "id": "7c797bb0",
   "metadata": {},
   "outputs": [],
   "source": []
  },
  {
   "cell_type": "markdown",
   "id": "5e715d78",
   "metadata": {},
   "source": [
    "- взять любой набор данных для бинарной классификации (можно скачать один из модельных с https://archive.ics.uci.edu/ml/datasets.php)\n",
    "- сделать обзорный анализ выбранного датасета\n",
    "- сделать feature engineering\n",
    "- обучить любой классификатор (какой вам нравится)\n",
    "- разобраться с SHAP и построить важности признаков для:\n",
    "    - всего тестового набора данных (summary_plot - дать интерпретацию)\n",
    "    - для топ 10%\n",
    "- для отдельных наблюдений вывести force_plot и попытаться проинтерпретировать результат"
   ]
  },
  {
   "cell_type": "code",
   "execution_count": null,
   "id": "040845a2",
   "metadata": {},
   "outputs": [],
   "source": []
  }
 ],
 "metadata": {
  "kernelspec": {
   "display_name": "Python 3",
   "language": "python",
   "name": "python3"
  },
  "language_info": {
   "codemirror_mode": {
    "name": "ipython",
    "version": 3
   },
   "file_extension": ".py",
   "mimetype": "text/x-python",
   "name": "python",
   "nbconvert_exporter": "python",
   "pygments_lexer": "ipython3",
   "version": "3.8.8"
  }
 },
 "nbformat": 4,
 "nbformat_minor": 5
}
