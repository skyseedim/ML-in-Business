{
 "cells": [
  {
   "cell_type": "markdown",
   "id": "65b5842f",
   "metadata": {},
   "source": [
    "# Практические задания к лекции № 5"
   ]
  },
  {
   "cell_type": "markdown",
   "id": "10f1970f",
   "metadata": {},
   "source": []
  }
 ],
 "metadata": {
  "kernelspec": {
   "display_name": "Python 3",
   "language": "python",
   "name": "python3"
  },
  "language_info": {
   "codemirror_mode": {
    "name": "ipython",
    "version": 3
   },
   "file_extension": ".py",
   "mimetype": "text/x-python",
   "name": "python",
   "nbconvert_exporter": "python",
   "pygments_lexer": "ipython3",
   "version": "3.8.8"
  }
 },
 "nbformat": 4,
 "nbformat_minor": 5
}
